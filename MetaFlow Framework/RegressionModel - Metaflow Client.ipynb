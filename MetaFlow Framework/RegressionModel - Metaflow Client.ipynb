{
 "cells": [
  {
   "cell_type": "code",
   "execution_count": 27,
   "id": "5eb1ddee",
   "metadata": {},
   "outputs": [
    {
     "name": "stdout",
     "output_type": "stream",
     "text": [
      "Current metadata provider: local@/home/hariharanpk14/Metaflow Project\n"
     ]
    }
   ],
   "source": [
    "from metaflow import Flow, get_metadata\n",
    "import pandas as pd\n",
    "print(\"Current metadata provider: %s\" % get_metadata())"
   ]
  },
  {
   "cell_type": "code",
   "execution_count": 29,
   "id": "1e2d2ef9",
   "metadata": {},
   "outputs": [
    {
     "name": "stdout",
     "output_type": "stream",
     "text": [
      "Using run: Run('FBRegressionDataExperimentationFlow/1664983357187715')\n"
     ]
    }
   ],
   "source": [
    "run = Flow('FBRegressionDataExperimentationFlow').latest_successful_run\n",
    "print(\"Using run: %s\" % str(run))\n",
    "\n",
    "testscores = run.data.test_score\n",
    "Trainpredictions = run.data.trainpredictions\n",
    "Testpredictions = run.data.testpredictions"
   ]
  },
  {
   "cell_type": "code",
   "execution_count": 30,
   "id": "0b5e3ed6",
   "metadata": {},
   "outputs": [
    {
     "data": {
      "text/html": [
       "<div>\n",
       "<style scoped>\n",
       "    .dataframe tbody tr th:only-of-type {\n",
       "        vertical-align: middle;\n",
       "    }\n",
       "\n",
       "    .dataframe tbody tr th {\n",
       "        vertical-align: top;\n",
       "    }\n",
       "\n",
       "    .dataframe thead th {\n",
       "        text-align: right;\n",
       "    }\n",
       "</style>\n",
       "<table border=\"1\" class=\"dataframe\">\n",
       "  <thead>\n",
       "    <tr style=\"text-align: right;\">\n",
       "      <th></th>\n",
       "      <th>trainy</th>\n",
       "      <th>SVR_trainpred</th>\n",
       "      <th>DS_trainpred</th>\n",
       "      <th>RF_trainpred</th>\n",
       "      <th>LR_trainpred</th>\n",
       "    </tr>\n",
       "  </thead>\n",
       "  <tbody>\n",
       "    <tr>\n",
       "      <th>0</th>\n",
       "      <td>0</td>\n",
       "      <td>70.889520</td>\n",
       "      <td>0.0</td>\n",
       "      <td>4.151786</td>\n",
       "      <td>-2.653112</td>\n",
       "    </tr>\n",
       "    <tr>\n",
       "      <th>1</th>\n",
       "      <td>0</td>\n",
       "      <td>56.155435</td>\n",
       "      <td>0.0</td>\n",
       "      <td>1.991071</td>\n",
       "      <td>20.045096</td>\n",
       "    </tr>\n",
       "    <tr>\n",
       "      <th>2</th>\n",
       "      <td>0</td>\n",
       "      <td>68.513022</td>\n",
       "      <td>0.0</td>\n",
       "      <td>5.178571</td>\n",
       "      <td>21.926649</td>\n",
       "    </tr>\n",
       "    <tr>\n",
       "      <th>3</th>\n",
       "      <td>10</td>\n",
       "      <td>26.254340</td>\n",
       "      <td>10.0</td>\n",
       "      <td>15.508929</td>\n",
       "      <td>-1.685239</td>\n",
       "    </tr>\n",
       "    <tr>\n",
       "      <th>4</th>\n",
       "      <td>10</td>\n",
       "      <td>100.952502</td>\n",
       "      <td>10.0</td>\n",
       "      <td>45.875000</td>\n",
       "      <td>35.418658</td>\n",
       "    </tr>\n",
       "    <tr>\n",
       "      <th>...</th>\n",
       "      <td>...</td>\n",
       "      <td>...</td>\n",
       "      <td>...</td>\n",
       "      <td>...</td>\n",
       "      <td>...</td>\n",
       "    </tr>\n",
       "    <tr>\n",
       "      <th>370</th>\n",
       "      <td>97</td>\n",
       "      <td>137.972323</td>\n",
       "      <td>97.0</td>\n",
       "      <td>292.607143</td>\n",
       "      <td>98.693804</td>\n",
       "    </tr>\n",
       "    <tr>\n",
       "      <th>371</th>\n",
       "      <td>97</td>\n",
       "      <td>97.211303</td>\n",
       "      <td>97.0</td>\n",
       "      <td>92.178571</td>\n",
       "      <td>116.156909</td>\n",
       "    </tr>\n",
       "    <tr>\n",
       "      <th>372</th>\n",
       "      <td>98</td>\n",
       "      <td>104.932510</td>\n",
       "      <td>98.0</td>\n",
       "      <td>94.821429</td>\n",
       "      <td>90.559594</td>\n",
       "    </tr>\n",
       "    <tr>\n",
       "      <th>373</th>\n",
       "      <td>99</td>\n",
       "      <td>71.480499</td>\n",
       "      <td>99.0</td>\n",
       "      <td>96.875000</td>\n",
       "      <td>89.784001</td>\n",
       "    </tr>\n",
       "    <tr>\n",
       "      <th>374</th>\n",
       "      <td>99</td>\n",
       "      <td>103.750099</td>\n",
       "      <td>99.0</td>\n",
       "      <td>98.937500</td>\n",
       "      <td>120.818749</td>\n",
       "    </tr>\n",
       "  </tbody>\n",
       "</table>\n",
       "<p>375 rows × 5 columns</p>\n",
       "</div>"
      ],
      "text/plain": [
       "    trainy  SVR_trainpred  DS_trainpred  RF_trainpred  LR_trainpred\n",
       "0        0      70.889520           0.0      4.151786     -2.653112\n",
       "1        0      56.155435           0.0      1.991071     20.045096\n",
       "2        0      68.513022           0.0      5.178571     21.926649\n",
       "3       10      26.254340          10.0     15.508929     -1.685239\n",
       "4       10     100.952502          10.0     45.875000     35.418658\n",
       "..     ...            ...           ...           ...           ...\n",
       "370     97     137.972323          97.0    292.607143     98.693804\n",
       "371     97      97.211303          97.0     92.178571    116.156909\n",
       "372     98     104.932510          98.0     94.821429     90.559594\n",
       "373     99      71.480499          99.0     96.875000     89.784001\n",
       "374     99     103.750099          99.0     98.937500    120.818749\n",
       "\n",
       "[375 rows x 5 columns]"
      ]
     },
     "execution_count": 30,
     "metadata": {},
     "output_type": "execute_result"
    }
   ],
   "source": [
    "df_Trainpredictions = pd.DataFrame(Trainpredictions)\n",
    "df_Trainpredictions = df_Trainpredictions.sort_values('trainy')\n",
    "df_Trainpredictions = df_Trainpredictions.reset_index()\n",
    "df_Trainpredictions.drop('index',axis=1)"
   ]
  },
  {
   "cell_type": "code",
   "execution_count": 31,
   "id": "6e06d3b0",
   "metadata": {},
   "outputs": [
    {
     "data": {
      "text/html": [
       "<div>\n",
       "<style scoped>\n",
       "    .dataframe tbody tr th:only-of-type {\n",
       "        vertical-align: middle;\n",
       "    }\n",
       "\n",
       "    .dataframe tbody tr th {\n",
       "        vertical-align: top;\n",
       "    }\n",
       "\n",
       "    .dataframe thead th {\n",
       "        text-align: right;\n",
       "    }\n",
       "</style>\n",
       "<table border=\"1\" class=\"dataframe\">\n",
       "  <thead>\n",
       "    <tr style=\"text-align: right;\">\n",
       "      <th></th>\n",
       "      <th>testy</th>\n",
       "      <th>SVR_testpred</th>\n",
       "      <th>DS_testpred</th>\n",
       "      <th>RF_testpred</th>\n",
       "      <th>LR_testpred</th>\n",
       "    </tr>\n",
       "  </thead>\n",
       "  <tbody>\n",
       "    <tr>\n",
       "      <th>0</th>\n",
       "      <td>0</td>\n",
       "      <td>58.575143</td>\n",
       "      <td>17.0</td>\n",
       "      <td>10.910714</td>\n",
       "      <td>-8.437024</td>\n",
       "    </tr>\n",
       "    <tr>\n",
       "      <th>1</th>\n",
       "      <td>0</td>\n",
       "      <td>64.538765</td>\n",
       "      <td>17.0</td>\n",
       "      <td>13.205357</td>\n",
       "      <td>-2.328737</td>\n",
       "    </tr>\n",
       "    <tr>\n",
       "      <th>2</th>\n",
       "      <td>0</td>\n",
       "      <td>74.429943</td>\n",
       "      <td>0.0</td>\n",
       "      <td>5.955357</td>\n",
       "      <td>-5.806515</td>\n",
       "    </tr>\n",
       "    <tr>\n",
       "      <th>3</th>\n",
       "      <td>10</td>\n",
       "      <td>84.801586</td>\n",
       "      <td>0.0</td>\n",
       "      <td>12.321429</td>\n",
       "      <td>24.246553</td>\n",
       "    </tr>\n",
       "    <tr>\n",
       "      <th>4</th>\n",
       "      <td>100</td>\n",
       "      <td>176.910536</td>\n",
       "      <td>233.0</td>\n",
       "      <td>222.821429</td>\n",
       "      <td>140.792375</td>\n",
       "    </tr>\n",
       "    <tr>\n",
       "      <th>...</th>\n",
       "      <td>...</td>\n",
       "      <td>...</td>\n",
       "      <td>...</td>\n",
       "      <td>...</td>\n",
       "      <td>...</td>\n",
       "    </tr>\n",
       "    <tr>\n",
       "      <th>120</th>\n",
       "      <td>96</td>\n",
       "      <td>180.263688</td>\n",
       "      <td>185.0</td>\n",
       "      <td>164.116071</td>\n",
       "      <td>130.590723</td>\n",
       "    </tr>\n",
       "    <tr>\n",
       "      <th>121</th>\n",
       "      <td>97</td>\n",
       "      <td>122.413918</td>\n",
       "      <td>185.0</td>\n",
       "      <td>155.089286</td>\n",
       "      <td>88.137689</td>\n",
       "    </tr>\n",
       "    <tr>\n",
       "      <th>122</th>\n",
       "      <td>97</td>\n",
       "      <td>94.250610</td>\n",
       "      <td>204.0</td>\n",
       "      <td>168.080357</td>\n",
       "      <td>125.721759</td>\n",
       "    </tr>\n",
       "    <tr>\n",
       "      <th>123</th>\n",
       "      <td>98</td>\n",
       "      <td>112.014442</td>\n",
       "      <td>204.0</td>\n",
       "      <td>128.812500</td>\n",
       "      <td>89.970370</td>\n",
       "    </tr>\n",
       "    <tr>\n",
       "      <th>124</th>\n",
       "      <td>99</td>\n",
       "      <td>127.128427</td>\n",
       "      <td>243.0</td>\n",
       "      <td>196.535714</td>\n",
       "      <td>109.414303</td>\n",
       "    </tr>\n",
       "  </tbody>\n",
       "</table>\n",
       "<p>125 rows × 5 columns</p>\n",
       "</div>"
      ],
      "text/plain": [
       "    testy  SVR_testpred  DS_testpred  RF_testpred  LR_testpred\n",
       "0       0     58.575143         17.0    10.910714    -8.437024\n",
       "1       0     64.538765         17.0    13.205357    -2.328737\n",
       "2       0     74.429943          0.0     5.955357    -5.806515\n",
       "3      10     84.801586          0.0    12.321429    24.246553\n",
       "4     100    176.910536        233.0   222.821429   140.792375\n",
       "..    ...           ...          ...          ...          ...\n",
       "120    96    180.263688        185.0   164.116071   130.590723\n",
       "121    97    122.413918        185.0   155.089286    88.137689\n",
       "122    97     94.250610        204.0   168.080357   125.721759\n",
       "123    98    112.014442        204.0   128.812500    89.970370\n",
       "124    99    127.128427        243.0   196.535714   109.414303\n",
       "\n",
       "[125 rows x 5 columns]"
      ]
     },
     "execution_count": 31,
     "metadata": {},
     "output_type": "execute_result"
    }
   ],
   "source": [
    "df_Testpredictions = pd.DataFrame(Testpredictions)\n",
    "df_Testpredictions = df_Testpredictions.sort_values('testy')\n",
    "df_Testpredictions = df_Testpredictions.reset_index()\n",
    "df_Testpredictions.drop('index',axis=1)"
   ]
  },
  {
   "cell_type": "code",
   "execution_count": 32,
   "id": "0194d1c8",
   "metadata": {},
   "outputs": [
    {
     "data": {
      "text/plain": [
       "<AxesSubplot: >"
      ]
     },
     "execution_count": 32,
     "metadata": {},
     "output_type": "execute_result"
    },
    {
     "data": {
      "image/png": "[encoded data removed]",
      "text/plain": [
       "<Figure size 640x480 with 1 Axes>"
      ]
     },
     "metadata": {},
     "output_type": "display_data"
    }
   ],
   "source": [
    "# plot multiple columns such as population and year from dataframe\n",
    "import matplotlib.pyplot as mp\n",
    "df_Trainpredictions.plot(y=[\"trainy\",\"SVR_trainpred\"])"
   ]
  },
  {
   "cell_type": "code",
   "execution_count": 33,
   "id": "62f9df0a",
   "metadata": {},
   "outputs": [
    {
     "data": {
      "text/plain": [
       "0       0\n",
       "1       0\n",
       "2       0\n",
       "3      10\n",
       "4      10\n",
       "       ..\n",
       "370    97\n",
       "371    97\n",
       "372    98\n",
       "373    99\n",
       "374    99\n",
       "Name: trainy, Length: 375, dtype: object"
      ]
     },
     "execution_count": 33,
     "metadata": {},
     "output_type": "execute_result"
    }
   ],
   "source": [
    "df_Trainpredictions['trainy']"
   ]
  },
  {
   "cell_type": "code",
   "execution_count": 34,
   "id": "55cc707d",
   "metadata": {},
   "outputs": [
    {
     "name": "stdout",
     "output_type": "stream",
     "text": [
      "0.25\n"
     ]
    }
   ],
   "source": [
    "print(run.data.num_testing)"
   ]
  },
  {
   "cell_type": "code",
   "execution_count": 35,
   "id": "4f240855",
   "metadata": {},
   "outputs": [
    {
     "name": "stdout",
     "output_type": "stream",
     "text": [
      "{'SVR': -0.13143283410463424, 'DS': 0.4355768652305033, 'RF': 0.6691357045608326, 'LR': 0.9700190311387132}\n",
      "{'SVR': -0.14146298940131574, 'DS': 0.3185073940265494, 'RF': 0.6829826446909341, 'LR': 0.9677481600330785}\n",
      "{'SVR': -0.14146298940131574, 'DS': 0.3185073940265494, 'RF': 0.6829826446909341, 'LR': 0.9677481600330785}\n",
      "{'SVR': -0.14146298940131574, 'DS': 0.3185073940265494, 'RF': 0.6829826446909341, 'LR': 0.9677481600330785}\n",
      "{'SVR': -0.14146298940131574, 'DS': 0.3185073940265494, 'RF': 0.6829826446909341, 'LR': 0.9677481600330785}\n",
      "{'SVR': -0.14146298940131574, 'DS': 0.3185073940265494, 'RF': 0.6829826446909341, 'LR': 0.9677481600330785}\n",
      "{'SVR': -0.14146298940131574, 'DS': 0.3185073940265494, 'RF': 0.6829826446909341, 'LR': 0.9677481600330785}\n",
      "{'SVR': -0.14146298940131574, 'DS': 0.3185073940265494, 'RF': 0.6829826446909341, 'LR': 0.9677481600330785}\n",
      "{'SVR': -0.14146298940131574, 'DS': 0.3185073940265494, 'RF': 0.6829826446909341}\n",
      "{'SVR': 0.042807492248991275, 'DS': -0.29466565489913066, 'RF': 0.5716095190753528}\n",
      "{'SVR': 0.042807492248991275, 'DS': -0.29466565489913066, 'RF': 0.5716095190753528}\n",
      "{'SVR': 0.042807492248991275, 'DS': -0.29466565489913066, 'RF': 0.5716095190753528}\n",
      "{'SVR': 0.042807492248991275, 'DS': -0.29466565489913066, 'RF': 0.5716095190753528}\n",
      "{'SVR': 0.042807492248991275, 'DS': -0.29466565489913066, 'RF': 0.5716095190753528}\n",
      "{'SVR': 0.042807492248991275, 'DS': -0.29466565489913066, 'RF': 0.5716095190753528}\n",
      "{'SVR': 0.042807492248991275, 'DS': -0.29466565489913066, 'RF': 0.5716095190753528}\n",
      "{'SVR': -0.19173385189877634, 'DS': 0.2541763133738275, 'RF': 0.6802925720709994}\n",
      "{'SVR': -0.19173385189877634, 'DS': 0.2541763133738275, 'RF': 0.6802925720709994}\n",
      "{'SVR': -0.20685364358729452, 'DS': 0.3321015630592643, 'RF': 0.646900613701882}\n"
     ]
    }
   ],
   "source": [
    "for run in Flow('FBRegressionDataExperimentationFlow'):\n",
    "    if(run.data is not None):\n",
    "        print(run.data.test_score)"
   ]
  }
 ],
 "metadata": {
  "kernelspec": {
   "display_name": "Python 3 (ipykernel)",
   "language": "python",
   "name": "python3"
  },
  "language_info": {
   "codemirror_mode": {
    "name": "ipython",
    "version": 3
   },
   "file_extension": ".py",
   "mimetype": "text/x-python",
   "name": "python",
   "nbconvert_exporter": "python",
   "pygments_lexer": "ipython3",
   "version": "3.8.10"
  }
 },
 "nbformat": 4,
 "nbformat_minor": 5
}
